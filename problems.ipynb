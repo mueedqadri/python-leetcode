{
 "cells": [
  {
   "cell_type": "code",
   "execution_count": 34,
   "metadata": {},
   "outputs": [],
   "source": [
    "from typing import List, Dict, Set, Tuple\n",
    "import numpy as np \n"
   ]
  },
  {
   "cell_type": "markdown",
   "metadata": {},
   "source": [
    "### Find Median Sorted Array\n",
    "\n",
    "Used built in sort could try using merge sort or something"
   ]
  },
  {
   "cell_type": "code",
   "execution_count": 5,
   "metadata": {},
   "outputs": [
    {
     "name": "stdout",
     "output_type": "stream",
     "text": [
      "[1, 2, 3, 4]\n",
      "2.5\n"
     ]
    }
   ],
   "source": [
    "def findMedianSortedArrays(nums1: List[int], nums2: List[int])->float:\n",
    "    list_combined: List[int] = nums1 + nums2\n",
    "    list_combined.sort()\n",
    "    print(list_combined)\n",
    "    size_list: int = len(list_combined)\n",
    "    index_med= int(size_list/2)\n",
    "    if size_list%2 ==0: \n",
    "        return (list_combined[index_med-1] + list_combined[index_med])/2\n",
    "    return list_combined[index_med]\n",
    "\n",
    "print(findMedianSortedArrays([1, 2], [3, 4]))"
   ]
  },
  {
   "cell_type": "markdown",
   "metadata": {},
   "source": [
    "### Longest Palindromic Substring\n",
    "Given a string s, return the longest \n",
    "palindromic substring in s.\n",
    "\n",
    "##### Example 1:\n",
    "\n",
    "Input: s = \"babad\"\n",
    "Output: \"bab\"\n",
    "\n",
    "*Explanation: \"aba\" is also a valid answer.*\n",
    "#### Example 2:\n",
    "\n",
    "Input: s = \"cbbd\"\n",
    "Output: \"bb\"\n",
    " \n",
    "\n",
    "#### Constraints:\n",
    "\n",
    "1 <= s.length <= 1000\n",
    "s consist of only digits and English letters."
   ]
  },
  {
   "cell_type": "code",
   "execution_count": 23,
   "metadata": {},
   "outputs": [],
   "source": [
    "class Solution:\n",
    "    def longestPalindrome(self, s: str) -> str:\n",
    "        longest_string: str = ''  \n",
    "        l = len(s)\n",
    "        i = 0\n",
    "        while i <= l:\n",
    "            j = i + 2\n",
    "            is_rep = False\n",
    "            is_p = True\n",
    "            k = i\n",
    "            while is_p:\n",
    "                curr_s = s[k: j]\n",
    "                if len(curr_s) > 1 and j < l and (len(curr_s) == 2 or is_rep):\n",
    "                    if curr_s[-1] == curr_s[-2]:\n",
    "                        is_rep = True\n",
    "                        j = j + 1\n",
    "                        if len(longest_string) < len(curr_s): \n",
    "                            longest_string = curr_s\n",
    "                        continue\n",
    "                    elif is_rep == True:\n",
    "                        k = k - 1\n",
    "                        curr_s = s[k: j]\n",
    "                        is_rep = False\n",
    "                if len(curr_s) == 2 and j < l and curr_s[0] == s [j]:\n",
    "                    curr_s = s[k: j+ 1]\n",
    "                    if len(longest_string) < len(curr_s): \n",
    "                        longest_string = curr_s\n",
    "                    j = j + 1\n",
    "                elif len(curr_s)>= 2 and curr_s[0]== curr_s[-1]:\n",
    "                    if len(longest_string) < len(curr_s): \n",
    "                        longest_string = curr_s\n",
    "                        \n",
    "                else: \n",
    "                    is_p = False\n",
    "                    break\n",
    "                j = j + 1\n",
    "                k = k - 1\n",
    "                if k < 0 or j > l:\n",
    "                        break  \n",
    "            i = i + 1\n",
    "\n",
    "        if longest_string == '':\n",
    "              return s[0]\n",
    "        return longest_string\n"
   ]
  },
  {
   "cell_type": "code",
   "execution_count": null,
   "metadata": {},
   "outputs": [],
   "source": [
    "s = Solution()\n",
    "print(s.longestPalindrome('absadasdwqejsniuhhuinasdquwn'))"
   ]
  },
  {
   "cell_type": "markdown",
   "metadata": {},
   "source": []
  },
  {
   "cell_type": "markdown",
   "metadata": {},
   "source": [
    "## Zigzag Conversion\n",
    "The string  `\"PAYPALISHIRING\"`  is written in a zigzag pattern on a given number of rows like this: (you may want to display this pattern in a fixed font for better legibility)\n",
    "```\n",
    "P   A   H   N\n",
    "A P L S I I G\n",
    "Y   I   R\n",
    "```\n",
    "And then read line by line:  `\"PAHNAPLSIIGYIR\"`\n",
    "\n",
    "Write the code that will take a string and make this conversion given a number of rows:\n",
    "\n",
    "string convert(string s, int numRows);\n",
    "\n",
    "**Example 1:**\n",
    "\n",
    "**Input:** s = \"PAYPALISHIRING\", numRows = 3\n",
    "**Output:** \"PAHNAPLSIIGYIR\"\n",
    "\n",
    "**Example 2:**\n",
    "\n",
    "**Input:** s = \"PAYPALISHIRING\", numRows = 4\n",
    "**Output:** \"PINALSIGYAHRPI\"\n",
    "**Explanation:**\n",
    "```\n",
    "P     I    N\n",
    "A   L S  I G\n",
    "Y A   H R\n",
    "P     I\n",
    "```\n",
    "\n",
    "**Example 3:**\n",
    "\n",
    "**Input:** s = \"A\", numRows = 1\n",
    "**Output:** \"A\"\n",
    "\n",
    "**Constraints:**\n",
    "\n",
    "-   `1 <= s.length <= 1000`\n",
    "-   `s`  consists of English letters (lower-case and upper-case),  `','`  and  `'.'`.\n",
    "-   `1 <= numRows <= 1000`"
   ]
  },
  {
   "cell_type": "code",
   "execution_count": 115,
   "metadata": {},
   "outputs": [],
   "source": [
    "class Solution:\n",
    "    def convert(self, s: str, numRows: int) -> str:\n",
    "        l = len(s)\n",
    "        s_list = list(s)\n",
    "        a = [['' for i in range(l)] for j in range(numRows)]\n",
    "        r, c = 0 , 0\n",
    "        toggle = False\n",
    "        for idx, character in enumerate(s_list):\n",
    "            r = (idx + 1)% numRows\n",
    "            a[r-1][c] = character\n",
    "            if toggle: \n",
    "                c = c + 1\n",
    "                r = numRows- c \n",
    "            if r  == 0:\n",
    "                c = c + 1\n",
    "                toggle = not toggle\n",
    "            \n",
    "        for i in range(numRows):\n",
    "            print(a[i])"
   ]
  },
  {
   "cell_type": "code",
   "execution_count": 116,
   "metadata": {},
   "outputs": [
    {
     "name": "stdout",
     "output_type": "stream",
     "text": [
      "['M', 'D', '', '', '', '', 'R', '', '', '']\n",
      "['U', '', 'Q', '', '', '', '', 'I', '', '']\n",
      "['E', '', '', 'A', '', '', '', '', '', '']\n",
      "['E', '', '', '', '', 'D', '', '', '', '']\n"
     ]
    }
   ],
   "source": [
    "s = Solution()\n",
    "s.convert('MUEEDQADRI', 4)"
   ]
  },
  {
   "cell_type": "markdown",
   "metadata": {},
   "source": [
    "\n",
    "## [Trapping Rain Water](https://leetcode.com/problems/trapping-rain-water/)\n",
    "Given  `n`  non-negative integers representing an elevation map where the width of each bar is  `1`, compute how much water it can trap after raining.\n",
    "\n",
    "**Example 1:**\n",
    "\n",
    "![](https://assets.leetcode.com/uploads/2018/10/22/rainwatertrap.png)\n",
    "\n",
    "**Input:** height = [0,1,0,2,1,0,1,3,2,1,2,1]\n",
    "\n",
    "**Output:** 6\n",
    "\n",
    "**Explanation:** The above elevation map (black section) is represented by array [0,1,0,2,1,0,1,3,2,1,2,1]. In this case, 6 units of rain water (blue section) are being trapped.\n",
    "\n",
    "**Example 2:**\n",
    "\n",
    "**Input:** height = [4,2,0,3,2,5]\n",
    "**Output:** 9\n",
    "\n",
    "**Constraints:**\n",
    "\n",
    "-   `n == height.length`\n",
    "-   `1 <= n <= 2 * 104`\n",
    "-   `0 <= height[i] <= 105`"
   ]
  },
  {
   "cell_type": "code",
   "execution_count": null,
   "metadata": {},
   "outputs": [],
   "source": [
    "class Solution:\n",
    "    def trap(self, height: List[int]) -> int:\n",
    "        "
   ]
  },
  {
   "cell_type": "code",
   "execution_count": null,
   "metadata": {},
   "outputs": [],
   "source": []
  }
 ],
 "metadata": {
  "kernelspec": {
   "display_name": "Python 3",
   "language": "python",
   "name": "python3"
  },
  "language_info": {
   "codemirror_mode": {
    "name": "ipython",
    "version": 3
   },
   "file_extension": ".py",
   "mimetype": "text/x-python",
   "name": "python",
   "nbconvert_exporter": "python",
   "pygments_lexer": "ipython3",
   "version": "3.12.6"
  }
 },
 "nbformat": 4,
 "nbformat_minor": 2
}
